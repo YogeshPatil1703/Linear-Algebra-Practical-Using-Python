{
 "cells": [
  {
   "cell_type": "raw",
   "id": "a0089f48-dcd1-411e-818b-08b4ceb0b927",
   "metadata": {},
   "source": [
    "**Solving the system of linear equations using Cramer's rule**\n"
   ]
  },
  {
   "cell_type": "raw",
   "id": "c5df88f3-62d2-4633-b554-106e33ac6bcd",
   "metadata": {},
   "source": [
    "a) 2x1-x2+x3=-3\n",
    "    x1+x2-3x3=17\n",
    "    5x1-2x2-4x3=20"
   ]
  },
  {
   "cell_type": "code",
   "execution_count": 27,
   "id": "51c0f9cf-fb83-4f38-bd0a-0c2ae5a39c46",
   "metadata": {},
   "outputs": [
    {
     "name": "stdout",
     "output_type": "stream",
     "text": [
      "The solution for x1 is: 2.0\n",
      "The solution for x2 is: 3.0\n",
      "The solution for x3 is: -4.0\n"
     ]
    }
   ],
   "source": [
    "import numpy as np\n",
    "\n",
    "A = np.array([[2, -1, 1],\n",
    "              [1, 1, -3],\n",
    "              [5, -2, -4]])\n",
    "\n",
    "b = np.array([-3, 17, 20])\n",
    "\n",
    "# Step 1: Calculate the determinant of A\n",
    "det_A = np.linalg.det(A)\n",
    "\n",
    "# Step 2: Create matrices A1, A2, A3 by replacing columns with vector b\n",
    "A1 = A.copy()\n",
    "A1[:, 0] = b  # Replace the first column of A with b\n",
    "\n",
    "A2 = A.copy()\n",
    "A2[:, 1] = b  # Replace the second column of A with b\n",
    "\n",
    "A3 = A.copy()\n",
    "A3[:, 2] = b  # Replace the third column of A with b\n",
    "\n",
    "# Step 3: Calculate the determinants of A1, A2, A3\n",
    "det_A1 = np.linalg.det(A1)\n",
    "det_A2 = np.linalg.det(A2)\n",
    "det_A3 = np.linalg.det(A3)\n",
    "\n",
    "# Step 4: Calculate the solutions using Cramer's rule\n",
    "if det_A != 0:\n",
    "    x1 = det_A1 / det_A\n",
    "    x2 = det_A2 / det_A\n",
    "    x3 = det_A3 / det_A\n",
    "\n",
    "    # Display the results\n",
    "    print(f'The solution for x1 is: {round(x1,2)}')\n",
    "    print(f'The solution for x2 is: {round(x2,2)}')\n",
    "    print(f'The solution for x3 is: {round(x3,2)}')\n",
    "else:\n",
    "    print('The system has no unique solution (determinant is zero).')\n"
   ]
  },
  {
   "cell_type": "raw",
   "id": "fbc1ef00-4969-4861-858d-c9e12f4c2115",
   "metadata": {},
   "source": [
    "b)2x1+3x2-x3=4\n",
    "  x1+4x2+x3=-1\n",
    "  5x1-x2+2x3=1"
   ]
  },
  {
   "cell_type": "code",
   "execution_count": 29,
   "id": "2cbe90a4-9417-42d5-9f11-9e08d3e066ba",
   "metadata": {},
   "outputs": [
    {
     "name": "stdout",
     "output_type": "stream",
     "text": [
      "The solution for x1 is: 1.0\n",
      "The solution for x2 is: 0.0\n",
      "The solution for x3 is: -2.0\n"
     ]
    }
   ],
   "source": [
    "A = np.array([[2, 3, -1],\n",
    "              [1, 4, 1],\n",
    "              [5, -1, 2]])\n",
    "\n",
    "b = np.array([4,-1,1])\n",
    "\n",
    "# Step 1: Calculate the determinant of A\n",
    "det_A = np.linalg.det(A)\n",
    "\n",
    "# Step 2: Create matrices A1, A2, A3 by replacing columns with vector b\n",
    "A1 = A.copy()\n",
    "A1[:, 0] = b  # Replace the first column of A with b\n",
    "\n",
    "A2 = A.copy()\n",
    "A2[:, 1] = b  # Replace the second column of A with b\n",
    "\n",
    "A3 = A.copy()\n",
    "A3[:, 2] = b  # Replace the third column of A with b\n",
    "\n",
    "# Step 3: Calculate the determinants of A1, A2, A3\n",
    "det_A1 = np.linalg.det(A1)\n",
    "det_A2 = np.linalg.det(A2)\n",
    "det_A3 = np.linalg.det(A3)\n",
    "\n",
    "# Step 4: Calculate the solutions using Cramer's rule\n",
    "if det_A != 0:\n",
    "    x1 = det_A1 / det_A\n",
    "    x2 = det_A2 / det_A\n",
    "    x3 = det_A3 / det_A\n",
    "\n",
    "    # Display the results\n",
    "    print(f'The solution for x1 is: {round(x1,2)}')\n",
    "    print(f'The solution for x2 is: {round(x2,2)}')\n",
    "    print(f'The solution for x3 is: {round(x3,2)}')\n",
    "else:\n",
    "    print('The system has no unique solution (determinant is zero).')\n"
   ]
  },
  {
   "cell_type": "raw",
   "id": "19912511-03c8-44e2-a265-4060493e08bc",
   "metadata": {},
   "source": [
    "c) -x1+2x2+4x3-2x4+3x5=14\n",
    "   20x1+5x2+3x3-2x4-x5=29\n",
    "   2x1+18x2+60x3+5x4-3x5=177\n",
    "    2x1+4x2+4x3+3x5=26\n",
    "    2x1+3x2-6x3+5x4+4x5=0"
   ]
  },
  {
   "cell_type": "code",
   "execution_count": 30,
   "id": "17700a88-7ea6-43a1-8546-1fa7a2de929c",
   "metadata": {},
   "outputs": [
    {
     "name": "stdout",
     "output_type": "stream",
     "text": [
      "The solution for x1 is: 2.0\n",
      "The solution for x2 is: -3.0\n",
      "The solution for x3 is: 4.0\n"
     ]
    }
   ],
   "source": [
    "A = np.array([[-1, 2, 4, -2, 3],\n",
    "              [20, 5, 3, -2, -1],\n",
    "              [2, 18, 60, 5, -3],\n",
    "              [2, 4, 4, 0, 3],\n",
    "              [2, 3, -6, 5, 4]])\n",
    "\n",
    "b = np.array([24,29,177,26,0])\n",
    "\n",
    "# Step 1: Calculate the determinant of A\n",
    "det_A = np.linalg.det(A)\n",
    "\n",
    "# Step 2: Create matrices A1, A2, A3 by replacing columns with vector b\n",
    "A1 = A.copy()\n",
    "A1[:, 0] = b  # Replace the first column of A with b\n",
    "\n",
    "A2 = A.copy()\n",
    "A2[:, 1] = b  # Replace the second column of A with b\n",
    "\n",
    "A3 = A.copy()\n",
    "A3[:, 2] = b  # Replace the third column of A with b\n",
    "\n",
    "# Step 3: Calculate the determinants of A1, A2, A3\n",
    "det_A1 = np.linalg.det(A1)\n",
    "det_A2 = np.linalg.det(A2)\n",
    "det_A3 = np.linalg.det(A3)\n",
    "\n",
    "# Step 4: Calculate the solutions using Cramer's rule\n",
    "if det_A != 0:\n",
    "    x1 = det_A1 / det_A\n",
    "    x2 = det_A2 / det_A\n",
    "    x3 = det_A3 / det_A\n",
    "\n",
    "    # Display the results\n",
    "    print(f'The solution for x1 is: {round(x1,2)}')\n",
    "    print(f'The solution for x2 is: {round(x2,2)}')\n",
    "    print(f'The solution for x3 is: {round(x3,2)}')\n",
    "else:\n",
    "    print('The system has no unique solution (determinant is zero).')\n"
   ]
  },
  {
   "cell_type": "raw",
   "id": "3be13504-0d47-4a71-b533-867f96d82b70",
   "metadata": {},
   "source": [
    "d)  11x1+16x2+10x3+6x4=84\n",
    "    4x1+3x2+2x3+2x4=18\n",
    "    4x1+5x2+3x3+2x4=26\n",
    "    2x1+3x2+2x3+x4=16"
   ]
  },
  {
   "cell_type": "code",
   "execution_count": 31,
   "id": "3058e473-4918-4b82-83be-04f6607ae57e",
   "metadata": {},
   "outputs": [
    {
     "name": "stdout",
     "output_type": "stream",
     "text": [
      "The solution for x1 is: -0.0\n",
      "The solution for x2 is: 2.0\n",
      "The solution for x3 is: 4.0\n"
     ]
    }
   ],
   "source": [
    "\n",
    "A = np.array([[11, 16, 10, 6],\n",
    "              [4, 3, 2, 2],\n",
    "              [4, 5, 3, 2],\n",
    "              [2, 3, 2, 1]])\n",
    "\n",
    "b = np.array([84,18,26,16])\n",
    "\n",
    "# Step 1: Calculate the determinant of A\n",
    "det_A = np.linalg.det(A)\n",
    "\n",
    "# Step 2: Create matrices A1, A2, A3 by replacing columns with vector b\n",
    "A1 = A.copy()\n",
    "A1[:, 0] = b  # Replace the first column of A with b\n",
    "\n",
    "A2 = A.copy()\n",
    "A2[:, 1] = b  # Replace the second column of A with b\n",
    "\n",
    "A3 = A.copy()\n",
    "A3[:, 2] = b  # Replace the third column of A with b\n",
    "\n",
    "# Step 3: Calculate the determinants of A1, A2, A3\n",
    "det_A1 = np.linalg.det(A1)\n",
    "det_A2 = np.linalg.det(A2)\n",
    "det_A3 = np.linalg.det(A3)\n",
    "\n",
    "# Step 4: Calculate the solutions using Cramer's rule\n",
    "if det_A != 0:\n",
    "    x1 = det_A1 / det_A\n",
    "    x2 = det_A2 / det_A\n",
    "    x3 = det_A3 / det_A\n",
    "\n",
    "    # Display the results\n",
    "    print(f'The solution for x1 is: {round(x1,2)}')\n",
    "    print(f'The solution for x2 is: {round(x2,2)}')\n",
    "    print(f'The solution for x3 is: {round(x3,2)}')\n",
    "else:\n",
    "    print('The system has no unique solution (determinant is zero).')\n"
   ]
  },
  {
   "cell_type": "raw",
   "id": "4bbabfcb-2d88-4c54-8e45-dba6004781cd",
   "metadata": {},
   "source": [
    "Obtain the solution to the system Ax =b where A and b are as follows.\n",
    "A=([[1, 0, 0, 0],\n",
    "      [3, 2, 0, 0],\n",
    "      [0, 1, -1, 0],\n",
    "      [-2, 3, 1, 3]])\n",
    "b=([2, 4, -1, -4])\n",
    " \n"
   ]
  },
  {
   "cell_type": "code",
   "execution_count": 32,
   "id": "19dd7eb7-7771-44c1-944f-213b4959db68",
   "metadata": {},
   "outputs": [
    {
     "name": "stdout",
     "output_type": "stream",
     "text": [
      "The solution to the system Ax = b is:\n",
      "[ 2. -1. -0.  1.]\n"
     ]
    }
   ],
   "source": [
    "\n",
    "A = np.array([[1, 0, 0, 0],\n",
    "              [3, 2, 0, 0],\n",
    "              [0, 1, -1, 0],\n",
    "              [-2, 3, 1, 3]])\n",
    "\n",
    "b = np.array([2, 4, -1, -4])\n",
    "\n",
    "# Solve the system of linear equations\n",
    "x = np.linalg.solve(A, b)\n",
    "\n",
    "print('The solution to the system Ax = b is:')\n",
    "print(x)\n"
   ]
  },
  {
   "cell_type": "raw",
   "id": "73b7d551-9543-44c1-89b0-33bc14bbb604",
   "metadata": {},
   "source": [
    "Find the determinant of the given matrix A using the following result based on the\n",
    "finding determinant of matrix by partitioning the given matrix.\n",
    "A=([[1, 2, 5, 2],\n",
    "    [-2, 3, 0, -4],\n",
    "    [1, -1, 0, 2],\n",
    "    [0, 1, 4, 2]])\n",
    "Result: If D is nonsingular: det([[A, B],[C, D]])=det(D)det(A-B*inv(D)*C)\n",
    "Result: If D is nonsingular: det([[A, B],[C, D]])=det(A)det(A-D*C*inv(A)*B)"
   ]
  },
  {
   "cell_type": "code",
   "execution_count": 33,
   "id": "9f6546eb-7090-44cb-bc4c-647972fbe61a",
   "metadata": {},
   "outputs": [
    {
     "name": "stdout",
     "output_type": "stream",
     "text": [
      "Determinant using Result 1: -9.999999999999998\n",
      "Determinant using Result 2: -9.999999999999998\n"
     ]
    }
   ],
   "source": [
    "import numpy as np\n",
    "\n",
    "# Given matrix A\n",
    "A = np.array([[1, 2, 5, 2],\n",
    "              [-2, 3, 0, -4],\n",
    "              [1, -1, 0, 2],\n",
    "              [0, 1, 4, 2]])\n",
    "\n",
    "# Partition the matrix\n",
    "A11 = np.array([[1, 2],\n",
    "                [-2, 3]])\n",
    "\n",
    "A12 = np.array([[5, 2],\n",
    "                [0, -4]])\n",
    "\n",
    "A21 = np.array([[1, -1],\n",
    "                [0, 1]])\n",
    "\n",
    "A22 = np.array([[0, 2],\n",
    "                [4, 2]])\n",
    "\n",
    "# Calculate determinant using Result 1\n",
    "inv_A22 = np.linalg.inv(A22)\n",
    "term1 = np.dot(A12, inv_A22)\n",
    "term2 = np.dot(term1, A21)\n",
    "A_bar = A11 - term2\n",
    "det_A_bar = np.linalg.det(A_bar)\n",
    "det_A22 = np.linalg.det(A22)\n",
    "det_result1 = det_A22 * det_A_bar\n",
    "\n",
    "print(f'Determinant using Result 1: {det_result1}')\n",
    "\n",
    "# Calculate determinant using Result 2\n",
    "inv_A11 = np.linalg.inv(A11)\n",
    "term3 = np.dot(A21, inv_A11)\n",
    "term4 = np.dot(term3, A12)\n",
    "D_bar = A22 - term4\n",
    "det_A11 = np.linalg.det(A11)\n",
    "det_D_bar = np.linalg.det(D_bar)\n",
    "det_result2 = det_A11 * det_D_bar\n",
    "\n",
    "print(f'Determinant using Result 2: {det_result2}')\n"
   ]
  },
  {
   "cell_type": "raw",
   "id": "f6f7a190-0d01-43df-99ac-b10add8a42ce",
   "metadata": {},
   "source": [
    "Write a Matlab code to obtain the solution to the following system of equations\n",
    "by using Cramer’s rule.\n",
    "let L=([[1, 0, 0, 0],\n",
    "        [2, 1, 0, 0],\n",
    "        [-3, -1, 1, 0].\n",
    "        [2, 0, 2, 1]]);\n",
    "U=([[2, 3, 0, 0],\n",
    "    [0, 1, 2, 0],\n",
    "    [0, 0, 2, 1],\n",
    "    [0, 0, 0, 3]]);\n",
    "and c=([1, 2, 1,0]);\n",
    "find the solution of Ly=c and using it the solution of Ax=c where A=LU"
   ]
  },
  {
   "cell_type": "code",
   "execution_count": 35,
   "id": "44f76bc7-81e8-4d73-ad35-1e4066ba3926",
   "metadata": {},
   "outputs": [
    {
     "name": "stdout",
     "output_type": "stream",
     "text": [
      "Solution to L * y = c:\n",
      "[  1.   0.   4. -10.]\n",
      "Solution to A * x = c using Cramer’s rule:\n",
      "x1 = 11.5000\n",
      "x2 = -7.3333\n",
      "x3 = 3.6667\n",
      "x4 = -3.3333\n"
     ]
    }
   ],
   "source": [
    "import numpy as np\n",
    "\n",
    "# 1. Define Matrices and Vector\n",
    "L = np.array([[1, 0, 0, 0],\n",
    "              [2, 1, 0, 0],\n",
    "              [-3, -1, 1, 0],\n",
    "              [2, 0, 2, 1]])\n",
    "\n",
    "U = np.array([[2, 3, 0, 0],\n",
    "              [0, 1, 2, 0],\n",
    "              [0, 0, 2, 1],\n",
    "              [0, 0, 0, 3]])\n",
    "\n",
    "c = np.array([1, 2, 1, 0])\n",
    "\n",
    "# 2. Solve L * y = c using forward substitution\n",
    "n = len(c)\n",
    "y = np.zeros(n)\n",
    "\n",
    "for i in range(n):\n",
    "    y[i] = c[i]\n",
    "    for j in range(i):\n",
    "        y[i] -= L[i, j] * y[j]\n",
    "    y[i] /= L[i, i]\n",
    "\n",
    "print('Solution to L * y = c:')\n",
    "print(y)\n",
    "\n",
    "# 3. Compute Matrix A\n",
    "A = np.dot(L, U)\n",
    "\n",
    "# 4. Solve A * x = c using Cramer’s rule\n",
    "det_A = np.linalg.det(A)\n",
    "\n",
    "if det_A == 0:\n",
    "    raise ValueError('Matrix A is singular and does not have a unique solution.')\n",
    "\n",
    "# Function to compute determinant after replacing a column of A with vector c\n",
    "def cramer_det(A, c, col):\n",
    "    A_temp = np.copy(A)\n",
    "    A_temp[:, col] = c\n",
    "    return np.linalg.det(A_temp)\n",
    "\n",
    "det_A1 = cramer_det(A, c, 0)\n",
    "det_A2 = cramer_det(A, c, 1)\n",
    "det_A3 = cramer_det(A, c, 2)\n",
    "det_A4 = cramer_det(A, c, 3)\n",
    "\n",
    "# Solve for x1, x2, x3, and x4 using Cramer’s rule\n",
    "x1 = det_A1 / det_A\n",
    "x2 = det_A2 / det_A\n",
    "x3 = det_A3 / det_A\n",
    "x4 = det_A4 / det_A\n",
    "\n",
    "print('Solution to A * x = c using Cramer’s rule:')\n",
    "print(f'x1 = {x1:.4f}')\n",
    "print(f'x2 = {x2:.4f}')\n",
    "print(f'x3 = {x3:.4f}')\n",
    "print(f'x4 = {x4:.4f}')\n"
   ]
  }
 ],
 "metadata": {
  "kernelspec": {
   "display_name": "Python 3 (ipykernel)",
   "language": "python",
   "name": "python3"
  },
  "language_info": {
   "codemirror_mode": {
    "name": "ipython",
    "version": 3
   },
   "file_extension": ".py",
   "mimetype": "text/x-python",
   "name": "python",
   "nbconvert_exporter": "python",
   "pygments_lexer": "ipython3",
   "version": "3.12.0"
  }
 },
 "nbformat": 4,
 "nbformat_minor": 5
}
